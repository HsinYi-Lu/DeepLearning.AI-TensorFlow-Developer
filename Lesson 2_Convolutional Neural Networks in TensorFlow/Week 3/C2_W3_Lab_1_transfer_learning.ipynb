{
  "nbformat": 4,
  "nbformat_minor": 0,
  "metadata": {
    "accelerator": "GPU",
    "colab": {
      "name": "C2_W3_Lab_1_transfer_learning.ipynb",
      "provenance": [],
      "collapsed_sections": [],
      "toc_visible": true
    },
    "kernelspec": {
      "name": "python3",
      "display_name": "Python 3"
    },
    "language_info": {
      "name": "python"
    }
  },
  "cells": [
    {
      "cell_type": "markdown",
      "metadata": {
        "id": "rX8mhOLljYeM"
      },
      "source": [
        "##### Copyright 2019 The TensorFlow Authors."
      ]
    },
    {
      "cell_type": "code",
      "metadata": {
        "cellView": "form",
        "id": "BZSlp3DAjdYf"
      },
      "source": [
        "#@title Licensed under the Apache License, Version 2.0 (the \"License\");\n",
        "# you may not use this file except in compliance with the License.\n",
        "# You may obtain a copy of the License at\n",
        "#\n",
        "# https://www.apache.org/licenses/LICENSE-2.0\n",
        "#\n",
        "# Unless required by applicable law or agreed to in writing, software\n",
        "# distributed under the License is distributed on an \"AS IS\" BASIS,\n",
        "# WITHOUT WARRANTIES OR CONDITIONS OF ANY KIND, either express or implied.\n",
        "# See the License for the specific language governing permissions and\n",
        "# limitations under the License."
      ],
      "execution_count": 1,
      "outputs": []
    },
    {
      "cell_type": "markdown",
      "metadata": {
        "id": "Qvrr8pLRzJMV"
      },
      "source": [
        "**IMPORTANT NOTE:** This notebook is designed to run as a Colab. Click the button on top that says, `Open in Colab`, to run this notebook as a Colab. Running the notebook on your local machine might result in some of the code blocks throwing errors."
      ]
    },
    {
      "cell_type": "code",
      "metadata": {
        "id": "1xJZ5glPPCRz",
        "colab": {
          "base_uri": "https://localhost:8080/"
        },
        "outputId": "916ed648-a92c-475d-cb2d-887004a52db7"
      },
      "source": [
        "import os\n",
        "\n",
        "from tensorflow.keras import layers\n",
        "from tensorflow.keras import Model\n",
        "\n",
        "!wget --no-check-certificate \\\n",
        "    https://storage.googleapis.com/mledu-datasets/inception_v3_weights_tf_dim_ordering_tf_kernels_notop.h5 \\\n",
        "    -O /tmp/inception_v3_weights_tf_dim_ordering_tf_kernels_notop.h5\n",
        "  \n"
      ],
      "execution_count": 2,
      "outputs": [
        {
          "output_type": "stream",
          "name": "stdout",
          "text": [
            "--2022-01-17 04:10:07--  https://storage.googleapis.com/mledu-datasets/inception_v3_weights_tf_dim_ordering_tf_kernels_notop.h5\n",
            "Resolving storage.googleapis.com (storage.googleapis.com)... 142.250.128.128, 142.251.6.128, 74.125.70.128, ...\n",
            "Connecting to storage.googleapis.com (storage.googleapis.com)|142.250.128.128|:443... connected.\n",
            "HTTP request sent, awaiting response... 200 OK\n",
            "Length: 87910968 (84M) [application/x-hdf]\n",
            "Saving to: ‘/tmp/inception_v3_weights_tf_dim_ordering_tf_kernels_notop.h5’\n",
            "\n",
            "/tmp/inception_v3_w 100%[===================>]  83.84M   220MB/s    in 0.4s    \n",
            "\n",
            "2022-01-17 04:10:07 (220 MB/s) - ‘/tmp/inception_v3_weights_tf_dim_ordering_tf_kernels_notop.h5’ saved [87910968/87910968]\n",
            "\n"
          ]
        }
      ]
    },
    {
      "cell_type": "code",
      "metadata": {
        "id": "KsiBCpQ1VvPp",
        "colab": {
          "base_uri": "https://localhost:8080/"
        },
        "outputId": "c06b4477-c05e-4af7-9a72-301362e050ba"
      },
      "source": [
        "from tensorflow.keras.applications.inception_v3 import InceptionV3\n",
        "\n",
        "local_weights_file = '/tmp/inception_v3_weights_tf_dim_ordering_tf_kernels_notop.h5'\n",
        "\n",
        "pre_trained_model = InceptionV3(input_shape = (150, 150, 3), \n",
        "                                include_top = False, \n",
        "                                weights = None)\n",
        "\n",
        "pre_trained_model.load_weights(local_weights_file)\n",
        "\n",
        "for layer in pre_trained_model.layers:\n",
        "  layer.trainable = False\n",
        "  \n",
        "# pre_trained_model.summary()\n",
        "\n",
        "last_layer = pre_trained_model.get_layer('mixed7')\n",
        "print('last layer output shape: ', last_layer.output_shape)\n",
        "last_output = last_layer.output"
      ],
      "execution_count": 3,
      "outputs": [
        {
          "output_type": "stream",
          "name": "stdout",
          "text": [
            "last layer output shape:  (None, 7, 7, 768)\n"
          ]
        }
      ]
    },
    {
      "cell_type": "code",
      "metadata": {
        "id": "BMXb913pbvFg"
      },
      "source": [
        "from tensorflow.keras.optimizers import RMSprop\n",
        "\n",
        "# Flatten the output layer to 1 dimension\n",
        "x = layers.Flatten()(last_output)\n",
        "# Add a fully connected layer with 1,024 hidden units and ReLU activation\n",
        "x = layers.Dense(1024, activation='relu')(x)\n",
        "# Add a dropout rate of 0.2\n",
        "x = layers.Dropout(0.2)(x)                  \n",
        "# Add a final sigmoid layer for classification\n",
        "x = layers.Dense  (1, activation='sigmoid')(x)           \n",
        "\n",
        "model = Model( pre_trained_model.input, x) \n",
        "\n",
        "model.compile(optimizer = RMSprop(learning_rate=0.0001), \n",
        "              loss = 'binary_crossentropy', \n",
        "              metrics = ['accuracy'])\n"
      ],
      "execution_count": 4,
      "outputs": []
    },
    {
      "cell_type": "code",
      "metadata": {
        "id": "O4s8HckqGlnb",
        "colab": {
          "base_uri": "https://localhost:8080/"
        },
        "outputId": "c465ba63-306f-463b-ac79-4be50703c333"
      },
      "source": [
        "!gdown --id 1RL0T7Rg4XqQNRCkjfnLo4goOJQ7XZro9\n",
        "\n",
        "from tensorflow.keras.preprocessing.image import ImageDataGenerator\n",
        "\n",
        "import os\n",
        "import zipfile\n",
        "\n",
        "zip_ref = zipfile.ZipFile(\"./cats_and_dogs_filtered.zip\", 'r')\n",
        "zip_ref.extractall(\"tmp/\")\n",
        "zip_ref.close()\n",
        "\n",
        "# Define our example directories and files\n",
        "base_dir = 'tmp/cats_and_dogs_filtered'\n",
        "\n",
        "train_dir = os.path.join( base_dir, 'train')\n",
        "validation_dir = os.path.join( base_dir, 'validation')\n",
        "\n",
        "\n",
        "train_cats_dir = os.path.join(train_dir, 'cats') # Directory with our training cat pictures\n",
        "train_dogs_dir = os.path.join(train_dir, 'dogs') # Directory with our training dog pictures\n",
        "validation_cats_dir = os.path.join(validation_dir, 'cats') # Directory with our validation cat pictures\n",
        "validation_dogs_dir = os.path.join(validation_dir, 'dogs')# Directory with our validation dog pictures\n",
        "\n",
        "train_cat_fnames = os.listdir(train_cats_dir)\n",
        "train_dog_fnames = os.listdir(train_dogs_dir)\n",
        "\n",
        "# Add our data-augmentation parameters to ImageDataGenerator\n",
        "train_datagen = ImageDataGenerator(rescale = 1./255.,\n",
        "                                   rotation_range = 40,\n",
        "                                   width_shift_range = 0.2,\n",
        "                                   height_shift_range = 0.2,\n",
        "                                   shear_range = 0.2,\n",
        "                                   zoom_range = 0.2,\n",
        "                                   horizontal_flip = True)\n",
        "\n",
        "# Note that the validation data should not be augmented!\n",
        "test_datagen = ImageDataGenerator( rescale = 1.0/255. )\n",
        "\n",
        "# Flow training images in batches of 20 using train_datagen generator\n",
        "train_generator = train_datagen.flow_from_directory(train_dir,\n",
        "                                                    batch_size = 20,\n",
        "                                                    class_mode = 'binary', \n",
        "                                                    target_size = (150, 150))     \n",
        "\n",
        "# Flow validation images in batches of 20 using test_datagen generator\n",
        "validation_generator =  test_datagen.flow_from_directory( validation_dir,\n",
        "                                                          batch_size  = 20,\n",
        "                                                          class_mode  = 'binary', \n",
        "                                                          target_size = (150, 150))"
      ],
      "execution_count": 5,
      "outputs": [
        {
          "output_type": "stream",
          "name": "stdout",
          "text": [
            "Downloading...\n",
            "From: https://drive.google.com/uc?id=1RL0T7Rg4XqQNRCkjfnLo4goOJQ7XZro9\n",
            "To: /content/cats_and_dogs_filtered.zip\n",
            "100% 68.6M/68.6M [00:00<00:00, 166MB/s]\n",
            "Found 2000 images belonging to 2 classes.\n",
            "Found 1000 images belonging to 2 classes.\n"
          ]
        }
      ]
    },
    {
      "cell_type": "code",
      "metadata": {
        "id": "Blhq2MAUeyGA",
        "colab": {
          "base_uri": "https://localhost:8080/"
        },
        "outputId": "c9dc472a-0980-41f8-e0fa-b26b070c2e3e"
      },
      "source": [
        "history = model.fit(\n",
        "            train_generator,\n",
        "            validation_data = validation_generator,\n",
        "            steps_per_epoch = 100,\n",
        "            epochs = 20,\n",
        "            validation_steps = 50,\n",
        "            verbose = 2)"
      ],
      "execution_count": 6,
      "outputs": [
        {
          "output_type": "stream",
          "name": "stdout",
          "text": [
            "Epoch 1/20\n",
            "100/100 - 36s - loss: 0.3419 - accuracy: 0.8625 - val_loss: 0.1566 - val_accuracy: 0.9430 - 36s/epoch - 364ms/step\n",
            "Epoch 2/20\n",
            "100/100 - 22s - loss: 0.2138 - accuracy: 0.9270 - val_loss: 0.1003 - val_accuracy: 0.9570 - 22s/epoch - 219ms/step\n",
            "Epoch 3/20\n",
            "100/100 - 23s - loss: 0.2219 - accuracy: 0.9250 - val_loss: 0.1057 - val_accuracy: 0.9670 - 23s/epoch - 230ms/step\n",
            "Epoch 4/20\n",
            "100/100 - 23s - loss: 0.1950 - accuracy: 0.9275 - val_loss: 0.1028 - val_accuracy: 0.9600 - 23s/epoch - 226ms/step\n",
            "Epoch 5/20\n",
            "100/100 - 22s - loss: 0.1986 - accuracy: 0.9305 - val_loss: 0.1133 - val_accuracy: 0.9620 - 22s/epoch - 218ms/step\n",
            "Epoch 6/20\n",
            "100/100 - 23s - loss: 0.1928 - accuracy: 0.9275 - val_loss: 0.1142 - val_accuracy: 0.9670 - 23s/epoch - 227ms/step\n",
            "Epoch 7/20\n",
            "100/100 - 21s - loss: 0.1727 - accuracy: 0.9380 - val_loss: 0.1103 - val_accuracy: 0.9650 - 21s/epoch - 214ms/step\n",
            "Epoch 8/20\n",
            "100/100 - 22s - loss: 0.1489 - accuracy: 0.9465 - val_loss: 0.1118 - val_accuracy: 0.9700 - 22s/epoch - 224ms/step\n",
            "Epoch 9/20\n",
            "100/100 - 21s - loss: 0.1818 - accuracy: 0.9355 - val_loss: 0.1112 - val_accuracy: 0.9670 - 21s/epoch - 214ms/step\n",
            "Epoch 10/20\n",
            "100/100 - 22s - loss: 0.1658 - accuracy: 0.9465 - val_loss: 0.1311 - val_accuracy: 0.9620 - 22s/epoch - 219ms/step\n",
            "Epoch 11/20\n",
            "100/100 - 21s - loss: 0.1643 - accuracy: 0.9470 - val_loss: 0.1165 - val_accuracy: 0.9700 - 21s/epoch - 212ms/step\n",
            "Epoch 12/20\n",
            "100/100 - 22s - loss: 0.1339 - accuracy: 0.9500 - val_loss: 0.1294 - val_accuracy: 0.9630 - 22s/epoch - 215ms/step\n",
            "Epoch 13/20\n",
            "100/100 - 21s - loss: 0.1612 - accuracy: 0.9515 - val_loss: 0.1341 - val_accuracy: 0.9640 - 21s/epoch - 213ms/step\n",
            "Epoch 14/20\n",
            "100/100 - 22s - loss: 0.1599 - accuracy: 0.9475 - val_loss: 0.1179 - val_accuracy: 0.9690 - 22s/epoch - 217ms/step\n",
            "Epoch 15/20\n",
            "100/100 - 23s - loss: 0.1332 - accuracy: 0.9550 - val_loss: 0.1111 - val_accuracy: 0.9710 - 23s/epoch - 226ms/step\n",
            "Epoch 16/20\n",
            "100/100 - 21s - loss: 0.1208 - accuracy: 0.9595 - val_loss: 0.1937 - val_accuracy: 0.9550 - 21s/epoch - 214ms/step\n",
            "Epoch 17/20\n",
            "100/100 - 22s - loss: 0.1414 - accuracy: 0.9525 - val_loss: 0.1088 - val_accuracy: 0.9700 - 22s/epoch - 217ms/step\n",
            "Epoch 18/20\n",
            "100/100 - 21s - loss: 0.1278 - accuracy: 0.9610 - val_loss: 0.1363 - val_accuracy: 0.9670 - 21s/epoch - 210ms/step\n",
            "Epoch 19/20\n",
            "100/100 - 21s - loss: 0.1205 - accuracy: 0.9600 - val_loss: 0.1563 - val_accuracy: 0.9570 - 21s/epoch - 210ms/step\n",
            "Epoch 20/20\n",
            "100/100 - 21s - loss: 0.1446 - accuracy: 0.9565 - val_loss: 0.1705 - val_accuracy: 0.9530 - 21s/epoch - 210ms/step\n"
          ]
        }
      ]
    },
    {
      "cell_type": "code",
      "metadata": {
        "id": "C2Fp6Se9rKuL",
        "colab": {
          "base_uri": "https://localhost:8080/",
          "height": 299
        },
        "outputId": "bdee9876-8808-4847-f13f-1fd21b3f3eb6"
      },
      "source": [
        "import matplotlib.pyplot as plt\n",
        "acc = history.history['accuracy']\n",
        "val_acc = history.history['val_accuracy']\n",
        "loss = history.history['loss']\n",
        "val_loss = history.history['val_loss']\n",
        "\n",
        "epochs = range(len(acc))\n",
        "\n",
        "plt.plot(epochs, acc, 'r', label='Training accuracy')\n",
        "plt.plot(epochs, val_acc, 'b', label='Validation accuracy')\n",
        "plt.title('Training and validation accuracy')\n",
        "plt.legend(loc=0)\n",
        "plt.figure()\n",
        "\n",
        "\n",
        "plt.show()"
      ],
      "execution_count": 7,
      "outputs": [
        {
          "output_type": "display_data",
          "data": {
            "image/png": "[encoded data removed]",
            "text/plain": [
              "<Figure size 432x288 with 1 Axes>"
            ]
          },
          "metadata": {
            "needs_background": "light"
          }
        },
        {
          "output_type": "display_data",
          "data": {
            "text/plain": [
              "<Figure size 432x288 with 0 Axes>"
            ]
          },
          "metadata": {}
        }
      ]
    }
  ]
}