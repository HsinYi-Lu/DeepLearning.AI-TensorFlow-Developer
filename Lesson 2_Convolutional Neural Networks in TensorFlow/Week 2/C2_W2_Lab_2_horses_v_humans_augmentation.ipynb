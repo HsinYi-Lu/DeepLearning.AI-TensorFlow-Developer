{
  "nbformat": 4,
  "nbformat_minor": 0,
  "metadata": {
    "accelerator": "GPU",
    "colab": {
      "name": "C2_W2_Lab_2_horses_v_humans_augmentation.ipynb",
      "provenance": [],
      "collapsed_sections": [],
      "toc_visible": true
    },
    "kernelspec": {
      "display_name": "Python 3",
      "language": "python",
      "name": "python3"
    },
    "language_info": {
      "codemirror_mode": {
        "name": "ipython",
        "version": 3
      },
      "file_extension": ".py",
      "mimetype": "text/x-python",
      "name": "python",
      "nbconvert_exporter": "python",
      "pygments_lexer": "ipython3",
      "version": "3.8.5"
    }
  },
  "cells": [
    {
      "cell_type": "markdown",
      "metadata": {
        "id": "rX8mhOLljYeM"
      },
      "source": [
        "##### Copyright 2019 The TensorFlow Authors."
      ]
    },
    {
      "cell_type": "code",
      "metadata": {
        "cellView": "form",
        "id": "BZSlp3DAjdYf"
      },
      "source": [
        "#@title Licensed under the Apache License, Version 2.0 (the \"License\");\n",
        "# you may not use this file except in compliance with the License.\n",
        "# You may obtain a copy of the License at\n",
        "#\n",
        "# https://www.apache.org/licenses/LICENSE-2.0\n",
        "#\n",
        "# Unless required by applicable law or agreed to in writing, software\n",
        "# distributed under the License is distributed on an \"AS IS\" BASIS,\n",
        "# WITHOUT WARRANTIES OR CONDITIONS OF ANY KIND, either express or implied.\n",
        "# See the License for the specific language governing permissions and\n",
        "# limitations under the License."
      ],
      "execution_count": 1,
      "outputs": []
    },
    {
      "cell_type": "code",
      "metadata": {
        "id": "RXZT2UsyIVe_",
        "colab": {
          "base_uri": "https://localhost:8080/"
        },
        "outputId": "891f1df7-0537-4924-e730-c48f8091930f"
      },
      "source": [
        "# horses-or-humans dataset\n",
        "!gdown --id 1onaG42NZft3wCE1WH0GDEbUhu75fedP5\n",
        "\n",
        "# horses-or-humans validation dataset\n",
        "!gdown --id 1LYeusSEIiZQpwN-mthh5nKdA75VsKG1U\n",
        "  \n",
        "import os\n",
        "import zipfile\n",
        "\n",
        "zip_ref = zipfile.ZipFile('./horse-or-human.zip', 'r')\n",
        "zip_ref.extractall('tmp/horse-or-human')\n",
        "\n",
        "zip_ref = zipfile.ZipFile('./validation-horse-or-human.zip', 'r')\n",
        "zip_ref.extractall('tmp/validation-horse-or-human')\n",
        "\n",
        "zip_ref.close()\n",
        "\n",
        "# Directory with our training horse pictures\n",
        "train_horse_dir = os.path.join('tmp/horse-or-human/horses')\n",
        "\n",
        "# Directory with our training human pictures\n",
        "train_human_dir = os.path.join('tmp/horse-or-human/humans')\n",
        "\n",
        "# Directory with our training horse pictures\n",
        "validation_horse_dir = os.path.join('tmp/validation-horse-or-human/horses')\n",
        "\n",
        "# Directory with our training human pictures\n",
        "validation_human_dir = os.path.join('tmp/validation-horse-or-human/humans')"
      ],
      "execution_count": 2,
      "outputs": [
        {
          "output_type": "stream",
          "name": "stdout",
          "text": [
            "Downloading...\n",
            "From: https://drive.google.com/uc?id=1onaG42NZft3wCE1WH0GDEbUhu75fedP5\n",
            "To: /content/horse-or-human.zip\n",
            "100% 150M/150M [00:01<00:00, 84.7MB/s]\n",
            "Downloading...\n",
            "From: https://drive.google.com/uc?id=1LYeusSEIiZQpwN-mthh5nKdA75VsKG1U\n",
            "To: /content/validation-horse-or-human.zip\n",
            "100% 11.5M/11.5M [00:00<00:00, 36.4MB/s]\n"
          ]
        }
      ]
    },
    {
      "cell_type": "markdown",
      "metadata": {
        "id": "5oqBkNBJmtUv"
      },
      "source": [
        "## Building a Small Model from Scratch\n",
        "\n",
        "But before we continue, let's start defining the model:\n",
        "\n",
        "Step 1 will be to import tensorflow."
      ]
    },
    {
      "cell_type": "code",
      "metadata": {
        "id": "qvfZg3LQbD-5"
      },
      "source": [
        "import tensorflow as tf"
      ],
      "execution_count": 3,
      "outputs": []
    },
    {
      "cell_type": "markdown",
      "metadata": {
        "id": "BnhYCP4tdqjC"
      },
      "source": [
        "We then add convolutional layers as in the previous example, and flatten the final result to feed into the densely connected layers."
      ]
    },
    {
      "cell_type": "markdown",
      "metadata": {
        "id": "gokG5HKpdtzm"
      },
      "source": [
        "Finally we add the densely connected layers. \n",
        "\n",
        "Note that because we are facing a two-class classification problem, i.e. a *binary classification problem*, we will end our network with a [*sigmoid* activation](https://wikipedia.org/wiki/Sigmoid_function), so that the output of our network will be a single scalar between 0 and 1, encoding the probability that the current image is class 1 (as opposed to class 0)."
      ]
    },
    {
      "cell_type": "code",
      "metadata": {
        "id": "PixZ2s5QbYQ3"
      },
      "source": [
        "model = tf.keras.models.Sequential([\n",
        "    # Note the input shape is the desired size of the image 300x300 with 3 bytes color\n",
        "    # This is the first convolution\n",
        "    tf.keras.layers.Conv2D(16, (3,3), activation='relu', input_shape=(300, 300, 3)),\n",
        "    tf.keras.layers.MaxPooling2D(2, 2),\n",
        "    # The second convolution\n",
        "    tf.keras.layers.Conv2D(32, (3,3), activation='relu'),\n",
        "    tf.keras.layers.MaxPooling2D(2,2),\n",
        "    # The third convolution\n",
        "    tf.keras.layers.Conv2D(64, (3,3), activation='relu'),\n",
        "    tf.keras.layers.MaxPooling2D(2,2),\n",
        "    # The fourth convolution\n",
        "    tf.keras.layers.Conv2D(64, (3,3), activation='relu'),\n",
        "    tf.keras.layers.MaxPooling2D(2,2),\n",
        "    # The fifth convolution\n",
        "    tf.keras.layers.Conv2D(64, (3,3), activation='relu'),\n",
        "    tf.keras.layers.MaxPooling2D(2,2),\n",
        "    # Flatten the results to feed into a DNN\n",
        "    tf.keras.layers.Flatten(),\n",
        "    # 512 neuron hidden layer\n",
        "    tf.keras.layers.Dense(512, activation='relu'),\n",
        "    # Only 1 output neuron. It will contain a value from 0-1 where 0 for 1 class ('horses') and 1 for the other ('humans')\n",
        "    tf.keras.layers.Dense(1, activation='sigmoid')\n",
        "])"
      ],
      "execution_count": 4,
      "outputs": []
    },
    {
      "cell_type": "code",
      "metadata": {
        "id": "8DHWhFP_uhq3"
      },
      "source": [
        "from tensorflow.keras.optimizers import RMSprop\n",
        "\n",
        "model.compile(loss='binary_crossentropy',\n",
        "              optimizer=RMSprop(learning_rate=1e-4),\n",
        "              metrics=['accuracy'])"
      ],
      "execution_count": 5,
      "outputs": []
    },
    {
      "cell_type": "code",
      "metadata": {
        "id": "ClebU9NJg99G",
        "colab": {
          "base_uri": "https://localhost:8080/"
        },
        "outputId": "ea929e51-78ac-4212-f224-f472b34b451a"
      },
      "source": [
        "from tensorflow.keras.preprocessing.image import ImageDataGenerator\n",
        "\n",
        "# All images will be rescaled by 1./255\n",
        "train_datagen = ImageDataGenerator(\n",
        "      rescale=1./255,\n",
        "      rotation_range=40,\n",
        "      width_shift_range=0.2,\n",
        "      height_shift_range=0.2,\n",
        "      shear_range=0.2,\n",
        "      zoom_range=0.2,\n",
        "      horizontal_flip=True,\n",
        "      fill_mode='nearest')\n",
        "\n",
        "validation_datagen = ImageDataGenerator(rescale=1/255)\n",
        "\n",
        "# Flow training images in batches of 128 using train_datagen generator\n",
        "train_generator = train_datagen.flow_from_directory(\n",
        "        'tmp/horse-or-human/',  # This is the source directory for training images\n",
        "        target_size=(300, 300),  # All images will be resized to 150x150\n",
        "        batch_size=128,\n",
        "        # Since we use binary_crossentropy loss, we need binary labels\n",
        "        class_mode='binary')\n",
        "\n",
        "# Flow training images in batches of 128 using train_datagen generator\n",
        "validation_generator = validation_datagen.flow_from_directory(\n",
        "        'tmp/validation-horse-or-human/',  # This is the source directory for training images\n",
        "        target_size=(300, 300),  # All images will be resized to 150x150\n",
        "        batch_size=32,\n",
        "        # Since we use binary_crossentropy loss, we need binary labels\n",
        "        class_mode='binary')"
      ],
      "execution_count": 6,
      "outputs": [
        {
          "output_type": "stream",
          "name": "stdout",
          "text": [
            "Found 1027 images belonging to 2 classes.\n",
            "Found 256 images belonging to 2 classes.\n"
          ]
        }
      ]
    },
    {
      "cell_type": "code",
      "metadata": {
        "id": "Fb1_lgobv81m",
        "colab": {
          "base_uri": "https://localhost:8080/"
        },
        "outputId": "98d07e69-db53-4d8c-c42f-268e9548455d"
      },
      "source": [
        "history = model.fit(\n",
        "      train_generator,\n",
        "      steps_per_epoch=8,  \n",
        "      epochs=100,\n",
        "      verbose=1,\n",
        "      validation_data = validation_generator,\n",
        "      validation_steps=8)"
      ],
      "execution_count": 7,
      "outputs": [
        {
          "output_type": "stream",
          "name": "stdout",
          "text": [
            "Epoch 1/100\n",
            "8/8 [==============================] - 32s 2s/step - loss: 0.6940 - accuracy: 0.5617 - val_loss: 0.6904 - val_accuracy: 0.5000\n",
            "Epoch 2/100\n",
            "8/8 [==============================] - 21s 3s/step - loss: 0.6631 - accuracy: 0.6240 - val_loss: 0.6384 - val_accuracy: 0.6211\n",
            "Epoch 3/100\n",
            "8/8 [==============================] - 21s 3s/step - loss: 0.6259 - accuracy: 0.6974 - val_loss: 0.6415 - val_accuracy: 0.5586\n",
            "Epoch 4/100\n",
            "8/8 [==============================] - 24s 3s/step - loss: 0.5859 - accuracy: 0.7148 - val_loss: 0.9967 - val_accuracy: 0.5000\n",
            "Epoch 5/100\n",
            "8/8 [==============================] - 22s 3s/step - loss: 0.6122 - accuracy: 0.6707 - val_loss: 0.7859 - val_accuracy: 0.5000\n",
            "Epoch 6/100\n",
            "8/8 [==============================] - 21s 3s/step - loss: 0.5936 - accuracy: 0.7253 - val_loss: 0.6238 - val_accuracy: 0.5898\n",
            "Epoch 7/100\n",
            "8/8 [==============================] - 21s 3s/step - loss: 0.5469 - accuracy: 0.7330 - val_loss: 0.7822 - val_accuracy: 0.5391\n",
            "Epoch 8/100\n",
            "8/8 [==============================] - 21s 3s/step - loss: 0.5362 - accuracy: 0.7442 - val_loss: 0.7117 - val_accuracy: 0.5742\n",
            "Epoch 9/100\n",
            "8/8 [==============================] - 21s 3s/step - loss: 0.5069 - accuracy: 0.7575 - val_loss: 0.8914 - val_accuracy: 0.5391\n",
            "Epoch 10/100\n",
            "8/8 [==============================] - 23s 3s/step - loss: 0.4955 - accuracy: 0.7695 - val_loss: 0.5574 - val_accuracy: 0.6758\n",
            "Epoch 11/100\n",
            "8/8 [==============================] - 21s 3s/step - loss: 0.4918 - accuracy: 0.7775 - val_loss: 1.3616 - val_accuracy: 0.5078\n",
            "Epoch 12/100\n",
            "8/8 [==============================] - 23s 3s/step - loss: 0.4998 - accuracy: 0.7607 - val_loss: 1.0540 - val_accuracy: 0.5508\n",
            "Epoch 13/100\n",
            "8/8 [==============================] - 21s 3s/step - loss: 0.4817 - accuracy: 0.7798 - val_loss: 1.1711 - val_accuracy: 0.5508\n",
            "Epoch 14/100\n",
            "8/8 [==============================] - 21s 3s/step - loss: 0.4461 - accuracy: 0.7998 - val_loss: 0.7202 - val_accuracy: 0.6562\n",
            "Epoch 15/100\n",
            "8/8 [==============================] - 21s 3s/step - loss: 0.4242 - accuracy: 0.8076 - val_loss: 1.1735 - val_accuracy: 0.5781\n",
            "Epoch 16/100\n",
            "8/8 [==============================] - 21s 3s/step - loss: 0.4395 - accuracy: 0.8065 - val_loss: 1.1022 - val_accuracy: 0.5977\n",
            "Epoch 17/100\n",
            "8/8 [==============================] - 23s 3s/step - loss: 0.4385 - accuracy: 0.8096 - val_loss: 1.4187 - val_accuracy: 0.5508\n",
            "Epoch 18/100\n",
            "8/8 [==============================] - 21s 3s/step - loss: 0.4304 - accuracy: 0.7987 - val_loss: 0.9916 - val_accuracy: 0.6289\n",
            "Epoch 19/100\n",
            "8/8 [==============================] - 21s 3s/step - loss: 0.4064 - accuracy: 0.8109 - val_loss: 1.3721 - val_accuracy: 0.5742\n",
            "Epoch 20/100\n",
            "8/8 [==============================] - 21s 3s/step - loss: 0.4069 - accuracy: 0.8031 - val_loss: 1.2973 - val_accuracy: 0.6016\n",
            "Epoch 21/100\n",
            "8/8 [==============================] - 21s 3s/step - loss: 0.3753 - accuracy: 0.8231 - val_loss: 1.5006 - val_accuracy: 0.5664\n",
            "Epoch 22/100\n",
            "8/8 [==============================] - 22s 3s/step - loss: 0.3379 - accuracy: 0.8543 - val_loss: 1.4148 - val_accuracy: 0.5938\n",
            "Epoch 23/100\n",
            "8/8 [==============================] - 21s 3s/step - loss: 0.3582 - accuracy: 0.8443 - val_loss: 1.7621 - val_accuracy: 0.5703\n",
            "Epoch 24/100\n",
            "8/8 [==============================] - 21s 3s/step - loss: 0.4490 - accuracy: 0.8198 - val_loss: 1.7669 - val_accuracy: 0.5586\n",
            "Epoch 25/100\n",
            "8/8 [==============================] - 21s 3s/step - loss: 0.3430 - accuracy: 0.8465 - val_loss: 2.8817 - val_accuracy: 0.5117\n",
            "Epoch 26/100\n",
            "8/8 [==============================] - 21s 3s/step - loss: 0.3864 - accuracy: 0.8165 - val_loss: 1.5566 - val_accuracy: 0.5742\n",
            "Epoch 27/100\n",
            "8/8 [==============================] - 21s 3s/step - loss: 0.3497 - accuracy: 0.8432 - val_loss: 1.6534 - val_accuracy: 0.5820\n",
            "Epoch 28/100\n",
            "8/8 [==============================] - 21s 3s/step - loss: 0.3233 - accuracy: 0.8576 - val_loss: 2.0821 - val_accuracy: 0.5547\n",
            "Epoch 29/100\n",
            "8/8 [==============================] - 21s 3s/step - loss: 0.3461 - accuracy: 0.8409 - val_loss: 2.4994 - val_accuracy: 0.5273\n",
            "Epoch 30/100\n",
            "8/8 [==============================] - 21s 3s/step - loss: 0.3425 - accuracy: 0.8443 - val_loss: 2.0430 - val_accuracy: 0.5508\n",
            "Epoch 31/100\n",
            "8/8 [==============================] - 22s 3s/step - loss: 0.3077 - accuracy: 0.8754 - val_loss: 1.4688 - val_accuracy: 0.6250\n",
            "Epoch 32/100\n",
            "8/8 [==============================] - 21s 3s/step - loss: 0.3150 - accuracy: 0.8621 - val_loss: 2.4630 - val_accuracy: 0.5234\n",
            "Epoch 33/100\n",
            "8/8 [==============================] - 21s 3s/step - loss: 0.2714 - accuracy: 0.8899 - val_loss: 1.9265 - val_accuracy: 0.5781\n",
            "Epoch 34/100\n",
            "8/8 [==============================] - 23s 3s/step - loss: 0.3092 - accuracy: 0.8662 - val_loss: 1.8050 - val_accuracy: 0.5938\n",
            "Epoch 35/100\n",
            "8/8 [==============================] - 21s 3s/step - loss: 0.4266 - accuracy: 0.8409 - val_loss: 2.0649 - val_accuracy: 0.5703\n",
            "Epoch 36/100\n",
            "8/8 [==============================] - 21s 3s/step - loss: 0.2457 - accuracy: 0.9110 - val_loss: 1.5959 - val_accuracy: 0.6445\n",
            "Epoch 37/100\n",
            "8/8 [==============================] - 21s 3s/step - loss: 0.3147 - accuracy: 0.8587 - val_loss: 1.4124 - val_accuracy: 0.6562\n",
            "Epoch 38/100\n",
            "8/8 [==============================] - 23s 3s/step - loss: 0.2205 - accuracy: 0.9111 - val_loss: 3.5289 - val_accuracy: 0.5195\n",
            "Epoch 39/100\n",
            "8/8 [==============================] - 21s 3s/step - loss: 0.3074 - accuracy: 0.8710 - val_loss: 1.6956 - val_accuracy: 0.6211\n",
            "Epoch 40/100\n",
            "8/8 [==============================] - 21s 3s/step - loss: 0.2657 - accuracy: 0.8877 - val_loss: 2.1521 - val_accuracy: 0.5703\n",
            "Epoch 41/100\n",
            "8/8 [==============================] - 21s 3s/step - loss: 0.3023 - accuracy: 0.8788 - val_loss: 2.1461 - val_accuracy: 0.5703\n",
            "Epoch 42/100\n",
            "8/8 [==============================] - 21s 3s/step - loss: 0.2083 - accuracy: 0.9255 - val_loss: 2.3375 - val_accuracy: 0.5781\n",
            "Epoch 43/100\n",
            "8/8 [==============================] - 21s 3s/step - loss: 0.3403 - accuracy: 0.8387 - val_loss: 2.1988 - val_accuracy: 0.5859\n",
            "Epoch 44/100\n",
            "8/8 [==============================] - 21s 3s/step - loss: 0.2333 - accuracy: 0.9032 - val_loss: 2.4666 - val_accuracy: 0.5820\n",
            "Epoch 45/100\n",
            "8/8 [==============================] - 21s 3s/step - loss: 0.2294 - accuracy: 0.9088 - val_loss: 2.1680 - val_accuracy: 0.5898\n",
            "Epoch 46/100\n",
            "8/8 [==============================] - 23s 3s/step - loss: 0.2355 - accuracy: 0.9102 - val_loss: 2.9196 - val_accuracy: 0.5508\n",
            "Epoch 47/100\n",
            "8/8 [==============================] - 21s 3s/step - loss: 0.2352 - accuracy: 0.9066 - val_loss: 2.2000 - val_accuracy: 0.6016\n",
            "Epoch 48/100\n",
            "8/8 [==============================] - 21s 3s/step - loss: 0.2455 - accuracy: 0.9055 - val_loss: 1.8508 - val_accuracy: 0.6133\n",
            "Epoch 49/100\n",
            "8/8 [==============================] - 21s 3s/step - loss: 0.2373 - accuracy: 0.8932 - val_loss: 3.6935 - val_accuracy: 0.5234\n",
            "Epoch 50/100\n",
            "8/8 [==============================] - 21s 3s/step - loss: 0.2490 - accuracy: 0.8888 - val_loss: 2.4237 - val_accuracy: 0.5781\n",
            "Epoch 51/100\n",
            "8/8 [==============================] - 21s 3s/step - loss: 0.2761 - accuracy: 0.8865 - val_loss: 3.1682 - val_accuracy: 0.5273\n",
            "Epoch 52/100\n",
            "8/8 [==============================] - 21s 3s/step - loss: 0.1970 - accuracy: 0.9232 - val_loss: 2.7254 - val_accuracy: 0.5703\n",
            "Epoch 53/100\n",
            "8/8 [==============================] - 21s 3s/step - loss: 0.1980 - accuracy: 0.9155 - val_loss: 3.1697 - val_accuracy: 0.5508\n",
            "Epoch 54/100\n",
            "8/8 [==============================] - 21s 3s/step - loss: 0.2591 - accuracy: 0.8843 - val_loss: 2.8590 - val_accuracy: 0.5586\n",
            "Epoch 55/100\n",
            "8/8 [==============================] - 24s 3s/step - loss: 0.1688 - accuracy: 0.9385 - val_loss: 2.8027 - val_accuracy: 0.5742\n",
            "Epoch 56/100\n",
            "8/8 [==============================] - 21s 3s/step - loss: 0.2066 - accuracy: 0.9155 - val_loss: 2.2580 - val_accuracy: 0.6328\n",
            "Epoch 57/100\n",
            "8/8 [==============================] - 21s 3s/step - loss: 0.1757 - accuracy: 0.9299 - val_loss: 3.9426 - val_accuracy: 0.5195\n",
            "Epoch 58/100\n",
            "8/8 [==============================] - 21s 3s/step - loss: 0.1872 - accuracy: 0.9266 - val_loss: 1.5540 - val_accuracy: 0.6953\n",
            "Epoch 59/100\n",
            "8/8 [==============================] - 21s 3s/step - loss: 0.2199 - accuracy: 0.9032 - val_loss: 1.3874 - val_accuracy: 0.6953\n",
            "Epoch 60/100\n",
            "8/8 [==============================] - 21s 3s/step - loss: 0.1804 - accuracy: 0.9255 - val_loss: 3.2648 - val_accuracy: 0.5391\n",
            "Epoch 61/100\n",
            "8/8 [==============================] - 21s 3s/step - loss: 0.2512 - accuracy: 0.8821 - val_loss: 1.9337 - val_accuracy: 0.6602\n",
            "Epoch 62/100\n",
            "8/8 [==============================] - 21s 3s/step - loss: 0.1593 - accuracy: 0.9433 - val_loss: 2.5689 - val_accuracy: 0.6250\n",
            "Epoch 63/100\n",
            "8/8 [==============================] - 21s 3s/step - loss: 0.1958 - accuracy: 0.9177 - val_loss: 1.9142 - val_accuracy: 0.6641\n",
            "Epoch 64/100\n",
            "8/8 [==============================] - 21s 3s/step - loss: 0.1533 - accuracy: 0.9444 - val_loss: 4.9109 - val_accuracy: 0.5195\n",
            "Epoch 65/100\n",
            "8/8 [==============================] - 21s 3s/step - loss: 0.2363 - accuracy: 0.9043 - val_loss: 1.8617 - val_accuracy: 0.6758\n",
            "Epoch 66/100\n",
            "8/8 [==============================] - 21s 3s/step - loss: 0.1592 - accuracy: 0.9399 - val_loss: 2.8069 - val_accuracy: 0.6055\n",
            "Epoch 67/100\n",
            "8/8 [==============================] - 21s 3s/step - loss: 0.1976 - accuracy: 0.9155 - val_loss: 2.2882 - val_accuracy: 0.6289\n",
            "Epoch 68/100\n",
            "8/8 [==============================] - 21s 3s/step - loss: 0.1284 - accuracy: 0.9488 - val_loss: 3.3876 - val_accuracy: 0.5469\n",
            "Epoch 69/100\n",
            "8/8 [==============================] - 21s 3s/step - loss: 0.3028 - accuracy: 0.8754 - val_loss: 2.1216 - val_accuracy: 0.6367\n",
            "Epoch 70/100\n",
            "8/8 [==============================] - 21s 3s/step - loss: 0.1442 - accuracy: 0.9499 - val_loss: 2.5028 - val_accuracy: 0.6445\n",
            "Epoch 71/100\n",
            "8/8 [==============================] - 23s 3s/step - loss: 0.1330 - accuracy: 0.9570 - val_loss: 1.6460 - val_accuracy: 0.6914\n",
            "Epoch 72/100\n",
            "8/8 [==============================] - 21s 3s/step - loss: 0.1814 - accuracy: 0.9310 - val_loss: 2.5954 - val_accuracy: 0.6016\n",
            "Epoch 73/100\n",
            "8/8 [==============================] - 21s 3s/step - loss: 0.1847 - accuracy: 0.9299 - val_loss: 4.5290 - val_accuracy: 0.5234\n",
            "Epoch 74/100\n",
            "8/8 [==============================] - 21s 3s/step - loss: 0.1660 - accuracy: 0.9388 - val_loss: 2.6753 - val_accuracy: 0.6094\n",
            "Epoch 75/100\n",
            "8/8 [==============================] - 21s 3s/step - loss: 0.1891 - accuracy: 0.9244 - val_loss: 1.9628 - val_accuracy: 0.6562\n",
            "Epoch 76/100\n",
            "8/8 [==============================] - 21s 3s/step - loss: 0.1258 - accuracy: 0.9544 - val_loss: 0.3486 - val_accuracy: 0.8984\n",
            "Epoch 77/100\n",
            "8/8 [==============================] - 21s 3s/step - loss: 0.3245 - accuracy: 0.9077 - val_loss: 3.2882 - val_accuracy: 0.5625\n",
            "Epoch 78/100\n",
            "8/8 [==============================] - 21s 3s/step - loss: 0.1367 - accuracy: 0.9522 - val_loss: 3.1743 - val_accuracy: 0.5664\n",
            "Epoch 79/100\n",
            "8/8 [==============================] - 21s 3s/step - loss: 0.1514 - accuracy: 0.9455 - val_loss: 3.0605 - val_accuracy: 0.5703\n",
            "Epoch 80/100\n",
            "8/8 [==============================] - 23s 3s/step - loss: 0.1448 - accuracy: 0.9492 - val_loss: 2.6794 - val_accuracy: 0.6289\n",
            "Epoch 81/100\n",
            "8/8 [==============================] - 21s 3s/step - loss: 0.1420 - accuracy: 0.9455 - val_loss: 3.1352 - val_accuracy: 0.5859\n",
            "Epoch 82/100\n",
            "8/8 [==============================] - 21s 3s/step - loss: 0.1187 - accuracy: 0.9622 - val_loss: 1.5398 - val_accuracy: 0.7109\n",
            "Epoch 83/100\n",
            "8/8 [==============================] - 21s 3s/step - loss: 0.1568 - accuracy: 0.9344 - val_loss: 2.7675 - val_accuracy: 0.6016\n",
            "Epoch 84/100\n",
            "8/8 [==============================] - 22s 3s/step - loss: 0.1092 - accuracy: 0.9577 - val_loss: 3.3942 - val_accuracy: 0.5898\n",
            "Epoch 85/100\n",
            "8/8 [==============================] - 22s 3s/step - loss: 0.1781 - accuracy: 0.9321 - val_loss: 2.7337 - val_accuracy: 0.6055\n",
            "Epoch 86/100\n",
            "8/8 [==============================] - 22s 3s/step - loss: 0.2145 - accuracy: 0.9166 - val_loss: 3.2610 - val_accuracy: 0.5703\n",
            "Epoch 87/100\n",
            "8/8 [==============================] - 24s 3s/step - loss: 0.1030 - accuracy: 0.9658 - val_loss: 3.0166 - val_accuracy: 0.6172\n",
            "Epoch 88/100\n",
            "8/8 [==============================] - 21s 3s/step - loss: 0.1212 - accuracy: 0.9566 - val_loss: 3.0757 - val_accuracy: 0.6133\n",
            "Epoch 89/100\n",
            "8/8 [==============================] - 24s 3s/step - loss: 0.0997 - accuracy: 0.9688 - val_loss: 2.6297 - val_accuracy: 0.6523\n",
            "Epoch 90/100\n",
            "8/8 [==============================] - 21s 3s/step - loss: 0.1276 - accuracy: 0.9533 - val_loss: 2.3767 - val_accuracy: 0.6641\n",
            "Epoch 91/100\n",
            "8/8 [==============================] - 21s 3s/step - loss: 0.2020 - accuracy: 0.9155 - val_loss: 2.0235 - val_accuracy: 0.6523\n",
            "Epoch 92/100\n",
            "8/8 [==============================] - 21s 3s/step - loss: 0.1947 - accuracy: 0.9277 - val_loss: 1.3618 - val_accuracy: 0.7188\n",
            "Epoch 93/100\n",
            "8/8 [==============================] - 21s 3s/step - loss: 0.1337 - accuracy: 0.9455 - val_loss: 2.7959 - val_accuracy: 0.6250\n",
            "Epoch 94/100\n",
            "8/8 [==============================] - 21s 3s/step - loss: 0.1021 - accuracy: 0.9633 - val_loss: 2.8464 - val_accuracy: 0.6484\n",
            "Epoch 95/100\n",
            "8/8 [==============================] - 21s 3s/step - loss: 0.0936 - accuracy: 0.9644 - val_loss: 3.1873 - val_accuracy: 0.6133\n",
            "Epoch 96/100\n",
            "8/8 [==============================] - 21s 3s/step - loss: 0.2229 - accuracy: 0.9177 - val_loss: 2.3559 - val_accuracy: 0.6562\n",
            "Epoch 97/100\n",
            "8/8 [==============================] - 21s 3s/step - loss: 0.1166 - accuracy: 0.9577 - val_loss: 3.0839 - val_accuracy: 0.6406\n",
            "Epoch 98/100\n",
            "8/8 [==============================] - 21s 3s/step - loss: 0.1583 - accuracy: 0.9232 - val_loss: 2.3532 - val_accuracy: 0.6602\n",
            "Epoch 99/100\n",
            "8/8 [==============================] - 21s 3s/step - loss: 0.1025 - accuracy: 0.9600 - val_loss: 2.1036 - val_accuracy: 0.6914\n",
            "Epoch 100/100\n",
            "8/8 [==============================] - 21s 3s/step - loss: 0.0945 - accuracy: 0.9633 - val_loss: 3.9056 - val_accuracy: 0.5664\n"
          ]
        }
      ]
    },
    {
      "cell_type": "code",
      "metadata": {
        "id": "7zNPRWOVJdOH",
        "colab": {
          "base_uri": "https://localhost:8080/",
          "height": 545
        },
        "outputId": "d8fa3397-f8f1-4c1c-bbc2-6f0ceba50e54"
      },
      "source": [
        "import matplotlib.pyplot as plt\n",
        "acc = history.history['accuracy']\n",
        "val_acc = history.history['val_accuracy']\n",
        "loss = history.history['loss']\n",
        "val_loss = history.history['val_loss']\n",
        "\n",
        "epochs = range(len(acc))\n",
        "\n",
        "plt.plot(epochs, acc, 'r', label='Training accuracy')\n",
        "plt.plot(epochs, val_acc, 'b', label='Validation accuracy')\n",
        "plt.title('Training and validation accuracy')\n",
        "\n",
        "plt.figure()\n",
        "\n",
        "plt.plot(epochs, loss, 'r', label='Training Loss')\n",
        "plt.plot(epochs, val_loss, 'b', label='Validation Loss')\n",
        "plt.title('Training and validation loss')\n",
        "plt.legend()\n",
        "\n",
        "plt.show()"
      ],
      "execution_count": 8,
      "outputs": [
        {
          "output_type": "display_data",
          "data": {
            "image/png": "[encoded data removed]",
            "text/plain": [
              "<Figure size 432x288 with 1 Axes>"
            ]
          },
          "metadata": {
            "needs_background": "light"
          }
        },
        {
          "output_type": "display_data",
          "data": {
            "image/png": "[encoded data removed]",
            "text/plain": [
              "<Figure size 432x288 with 1 Axes>"
            ]
          },
          "metadata": {
            "needs_background": "light"
          }
        }
      ]
    }
  ]
}